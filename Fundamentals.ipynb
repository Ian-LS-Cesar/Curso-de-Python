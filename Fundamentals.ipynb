{
 "cells": [
  {
   "cell_type": "markdown",
   "metadata": {},
   "source": [
    "# Basic Data Types"
   ]
  },
  {
   "cell_type": "code",
   "execution_count": 4,
   "metadata": {},
   "outputs": [
    {
     "data": {
      "text/plain": [
       "'0.1000000000000000055511151'"
      ]
     },
     "execution_count": 4,
     "metadata": {},
     "output_type": "execute_result"
    }
   ],
   "source": [
    "format(0.1, '.25f')"
   ]
  },
  {
   "cell_type": "code",
   "execution_count": 5,
   "metadata": {},
   "outputs": [
    {
     "data": {
      "text/plain": [
       "'0.1250000000000000000000000'"
      ]
     },
     "execution_count": 5,
     "metadata": {},
     "output_type": "execute_result"
    }
   ],
   "source": [
    "format(0.125, '.25f')"
   ]
  },
  {
   "cell_type": "code",
   "execution_count": 6,
   "metadata": {},
   "outputs": [
    {
     "data": {
      "text/plain": [
       "'0.3000000000000000444089210'"
      ]
     },
     "execution_count": 6,
     "metadata": {},
     "output_type": "execute_result"
    }
   ],
   "source": [
    "format(0.1 + 0.1 + 0.1, '.25f')"
   ]
  },
  {
   "cell_type": "code",
   "execution_count": 7,
   "metadata": {},
   "outputs": [
    {
     "data": {
      "text/plain": [
       "'0.2999999999999999888977698'"
      ]
     },
     "execution_count": 7,
     "metadata": {},
     "output_type": "execute_result"
    }
   ],
   "source": [
    "format(0.3, '.25f')"
   ]
  },
  {
   "cell_type": "markdown",
   "metadata": {},
   "source": [
    "# Objects "
   ]
  },
  {
   "cell_type": "code",
   "execution_count": null,
   "metadata": {},
   "outputs": [],
   "source": [
    "class Conta:\n",
    "    def __init__(self, numeroConta, tipoConta, saldoInicial):\n",
    "        self.numeroConta = numeroConta\n",
    "        self.tipoConta = tipoConta\n",
    "        self.saldo = saldoInicial\n",
    "\n",
    "    def depositar(self, valor):\n",
    "\n",
    "        if valor > 0:\n",
    "            self.saldo+= valor\n",
    "            print(f\"Depositou R${valor:.2f}\")\n",
    "            print(f\"Saldo atual: R${self.saldo:.2f}\")\n",
    "        else:\n",
    "            print(f\"{valor} é um valor inválido.\")\n",
    "\n",
    "    def retirar(self, valor):\n",
    "        if valor > 0 and valor <= self.saldo:\n",
    "            self.saldo-= valor\n",
    "            print(f\"Foram retirados R${valor:.2f}\")\n",
    "            print(f\"Saldo atual: R${self.saldo:.2f}\")\n",
    "        else:\n",
    "            print(\"Saldo insuficiente.\")\n",
    "            print(f\"Seu saldo atual é R${self.saldo:.2f}\")\n",
    "\n",
    "\n",
    "minhaConta = Conta('123-456', 'Poupança', 1_000.00)\n",
    "\n",
    "print(minhaConta.numeroConta)\n",
    "print(minhaConta.tipoConta)\n",
    "print(minhaConta.saldo)\n",
    "\n",
    "minhaConta.depositar(100)\n",
    "\n",
    "print(minhaConta.saldo)\n",
    "\n",
    "minhaConta.retirar(600)\n",
    "\n",
    "print(minhaConta.saldo)\n",
    "\n",
    "minhaConta.retirar(10_000)\n"
   ]
  },
  {
   "cell_type": "code",
   "execution_count": 17,
   "metadata": {},
   "outputs": [
    {
     "data": {
      "text/plain": [
       "(1, 8)"
      ]
     },
     "execution_count": 17,
     "metadata": {},
     "output_type": "execute_result"
    }
   ],
   "source": [
    "(0.125).as_integer_ratio()"
   ]
  }
 ],
 "metadata": {
  "kernelspec": {
   "display_name": "base",
   "language": "python",
   "name": "python3"
  },
  "language_info": {
   "codemirror_mode": {
    "name": "ipython",
    "version": 3
   },
   "file_extension": ".py",
   "mimetype": "text/x-python",
   "name": "python",
   "nbconvert_exporter": "python",
   "pygments_lexer": "ipython3",
   "version": "3.11.8"
  }
 },
 "nbformat": 4,
 "nbformat_minor": 2
}
